{
 "cells": [
  {
   "cell_type": "code",
   "execution_count": 61,
   "metadata": {},
   "outputs": [],
   "source": [
    "import matplotlib.pyplot as plt\n",
    "from matplotlib.text import Text\n",
    "\n",
    "import numpy as np\n",
    "\n",
    "# Включение русского языка\n",
    "from matplotlib import rc\n",
    "rc('font',**{'family':'serif'})\n",
    "rc('font',**{'size':'18'})\n",
    "rc('text', usetex=True)\n",
    "rc('text.latex',unicode=True)\n",
    "rc('text.latex',preamble='\\\\usepackage[utf8]{inputenc}')\n",
    "rc('text.latex',preamble='\\\\usepackage[russian]{babel}')"
   ]
  },
  {
   "cell_type": "code",
   "execution_count": 72,
   "metadata": {},
   "outputs": [
    {
     "data": {
      "image/png": "[encoded data removed]",
      "text/plain": [
       "<Figure size 432x360 with 1 Axes>"
      ]
     },
     "metadata": {},
     "output_type": "display_data"
    }
   ],
   "source": [
    "gamma = 1.4\n",
    "xcr = (2/(gamma+1))**(gamma/(gamma-1))\n",
    "\n",
    "def fracm(gamma, x):\n",
    "    return np.sqrt( 2/(gamma-1) * \n",
    "                   ((gamma+1)/2)**((gamma+1)/(gamma-1))*\n",
    "                   x**(2/gamma) * \n",
    "                  (1 - x**((gamma-1)/gamma))\n",
    "                  )\n",
    "\n",
    "\n",
    "xi = np.linspace(xcr, 1)\n",
    "xi_fake = np.linspace(0, xcr)\n",
    "\n",
    "fone = [1  for x in xi_fake] \n",
    "\n",
    "fig, ax = plt.subplots(1,1,figsize=(6,5))\n",
    "\n",
    "ax.set_ylabel(\"$m/m_{cr}$\")\n",
    "ax.set_xlabel(\"$p'/p^*$\")\n",
    "\n",
    "ax.set_xlim(0, 1.1)\n",
    "ax.set_ylim(0, 1.1)\n",
    "\n",
    "ax.plot(xi_fake, fracm(gamma,xi_fake), '--')\n",
    "ax.plot(xi, fracm(gamma,xi))\n",
    "ax.plot(xi_fake, fone)\n",
    "\n",
    "\n",
    "\n",
    "ax.plot(xcr, 1, 'ro')\n",
    "ax.plot([xcr for y in np.linspace(0,1)], np.linspace(0,1), 'b--')\n",
    "\n",
    "# # ax.plot(1, theta(1),'go')\n",
    "# # ax.plot(3.2, theta(3.2),'go')\n",
    "\n",
    "ticks = np.array([0, 0.2, 0.4, xcr, 0.6, 0.8,  1.0 ])\n",
    "labels = []\n",
    "\n",
    "for t in ticks:\n",
    "    if (t != xcr):\n",
    "        labels.append(Text(0,0,t))\n",
    "    else:\n",
    "        labels.append(Text(0,0,\"$x_{cr}$\"))\n",
    "\n",
    "\n",
    "\n",
    "\n",
    "ax.set_xticks(ticks)\n",
    "ax.set_xticklabels(labels)\n",
    "\n",
    "ax.grid(True)\n",
    "\n",
    "plt.tight_layout()\n",
    "plt.savefig(\"../img/simple_nozzle_m.pdf\")\n"
   ]
  },
  {
   "cell_type": "code",
   "execution_count": null,
   "metadata": {},
   "outputs": [],
   "source": []
  }
 ],
 "metadata": {
  "kernelspec": {
   "display_name": "Python 3",
   "language": "python",
   "name": "python3"
  },
  "language_info": {
   "codemirror_mode": {
    "name": "ipython",
    "version": 3
   },
   "file_extension": ".py",
   "mimetype": "text/x-python",
   "name": "python",
   "nbconvert_exporter": "python",
   "pygments_lexer": "ipython3",
   "version": "3.6.8"
  }
 },
 "nbformat": 4,
 "nbformat_minor": 2
}
